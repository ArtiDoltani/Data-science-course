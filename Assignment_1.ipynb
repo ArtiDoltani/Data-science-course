{
 "cells": [
  {
   "cell_type": "markdown",
   "metadata": {},
   "source": [
    "# Assignment # 1"
   ]
  },
  {
   "cell_type": "markdown",
   "metadata": {},
   "source": [
    "## Task 1: Format of Poem"
   ]
  },
  {
   "cell_type": "code",
   "execution_count": 12,
   "metadata": {},
   "outputs": [
    {
     "name": "stdout",
     "output_type": "stream",
     "text": [
      "Twinkle,twinkle,little star \n",
      "         How I wonder what you are!  \n",
      "                Up above the world so high, \n",
      "                Like a dimond in the sky.\n",
      "Twinkle,twinkle,little star \n",
      "         How I wonder what you are! \n"
     ]
    }
   ],
   "source": [
    "a=\"Twinkle,twinkle,little star \\n         How I wonder what you are! \";\n",
    "b=\"             \";\n",
    "print(a,\"\\n\",b,\" Up above the world so high, \\n\",b ,\" Like a dimond in the sky.\")\n",
    "print(a)"
   ]
  },
  {
   "cell_type": "markdown",
   "metadata": {},
   "source": [
    "## Task 2: Python Version"
   ]
  },
  {
   "cell_type": "code",
   "execution_count": 17,
   "metadata": {},
   "outputs": [
    {
     "name": "stdout",
     "output_type": "stream",
     "text": [
      "3.8.5\n"
     ]
    }
   ],
   "source": [
    "from platform import python_version\n",
    "print(python_version())"
   ]
  },
  {
   "cell_type": "markdown",
   "metadata": {},
   "source": [
    "## Task 3: Current Date and time\n"
   ]
  },
  {
   "cell_type": "code",
   "execution_count": 26,
   "metadata": {},
   "outputs": [
    {
     "name": "stdout",
     "output_type": "stream",
     "text": [
      "Current date and time:  2021-12-30 23:39:03.569111\n"
     ]
    }
   ],
   "source": [
    "from datetime import* \n",
    "now = datetime.now()\n",
    "print(\"Current date and time: \", now)\n",
    "\n"
   ]
  },
  {
   "cell_type": "markdown",
   "metadata": {},
   "source": [
    "## Task 4: Compute the area of circle"
   ]
  },
  {
   "cell_type": "code",
   "execution_count": 2,
   "metadata": {},
   "outputs": [
    {
     "name": "stdout",
     "output_type": "stream",
     "text": [
      "Enter the value of radius: 5\n",
      "Area of circle is  78.53981633974483\n"
     ]
    }
   ],
   "source": [
    "import math\n",
    "radius=float(input(\"Enter the value of radius: \"))\n",
    "area=math.pi*radius*radius;\n",
    "print(\"Area of circle is \",area);"
   ]
  },
  {
   "cell_type": "markdown",
   "metadata": {},
   "source": [
    "## Task 5: User's first and last name in reverse order"
   ]
  },
  {
   "cell_type": "code",
   "execution_count": 5,
   "metadata": {},
   "outputs": [
    {
     "name": "stdout",
     "output_type": "stream",
     "text": [
      "Enter your First and Last name : Arti Doltani\n",
      "Name in reverse Order:  inatloD itrA\n"
     ]
    }
   ],
   "source": [
    "Fname=input(\"Enter your First and Last name : \")\n",
    "print(\"Name in reverse Order: \",Fname[::-1]);\n"
   ]
  },
  {
   "cell_type": "markdown",
   "metadata": {},
   "source": [
    "## Task 6: Program which takes two input and print their addition"
   ]
  },
  {
   "cell_type": "code",
   "execution_count": 3,
   "metadata": {},
   "outputs": [
    {
     "name": "stdout",
     "output_type": "stream",
     "text": [
      "Enter the 1st Number: 60\n",
      "Enter the Second Number: 8\n",
      "Sum =  68\n"
     ]
    }
   ],
   "source": [
    "num1=int(input(\"Enter the 1st Number: \"))\n",
    "num2=int(input(\"Enter the Second Number: \"))\n",
    "Sum=num1+num2;\n",
    "print(\"Sum = \",Sum)"
   ]
  }
 ],
 "metadata": {
  "kernelspec": {
   "display_name": "Python 3",
   "language": "python",
   "name": "python3"
  },
  "language_info": {
   "codemirror_mode": {
    "name": "ipython",
    "version": 3
   },
   "file_extension": ".py",
   "mimetype": "text/x-python",
   "name": "python",
   "nbconvert_exporter": "python",
   "pygments_lexer": "ipython3",
   "version": "3.8.5"
  }
 },
 "nbformat": 4,
 "nbformat_minor": 4
}
